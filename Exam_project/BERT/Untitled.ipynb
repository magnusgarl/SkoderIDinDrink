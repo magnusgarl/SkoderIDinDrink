{
 "cells": [
  {
   "cell_type": "code",
   "execution_count": 13,
   "id": "f37d1e21-b79f-4ffc-b89d-d3e4605d77ed",
   "metadata": {
    "tags": []
   },
   "outputs": [
    {
     "name": "stdout",
     "output_type": "stream",
     "text": [
      "14292    1523\n",
      "14293    1335\n",
      "14294     619\n",
      "14295     665\n",
      "14296     529\n",
      "14297     723\n",
      "14298    2307\n",
      "14299    1285\n",
      "14300     771\n",
      "14301    1139\n",
      "Name: Introduction, dtype: int64\n"
     ]
    }
   ],
   "source": [
    "import pandas as pd\n",
    "\n",
    "# Read the CSV file into a DataFrame\n",
    "df = pd.read_csv('/Users/Magnus/Documents/GitHub/Merge/Journal_Introduction_GenDummy_v2.csv')  # Replace 'file_path.csv' with the path to your CSV file\n",
    "\n",
    "# Extract the first 10 rows of the 'Introduction' column\n",
    "introductions = df['Introduction'].tail(10)\n",
    "\n",
    "# Count the number of words for each introduction\n",
    "word_counts = introductions.str.split().apply(len)\n",
    "\n",
    "# Print the word counts\n",
    "print(word_counts)\n"
   ]
  },
  {
   "cell_type": "code",
   "execution_count": null,
   "id": "2c9f39cf-31ba-497d-9831-2a22af40cee4",
   "metadata": {},
   "outputs": [],
   "source": []
  }
 ],
 "metadata": {
  "kernelspec": {
   "display_name": "Python 3 (ipykernel)",
   "language": "python",
   "name": "python3"
  },
  "language_info": {
   "codemirror_mode": {
    "name": "ipython",
    "version": 3
   },
   "file_extension": ".py",
   "mimetype": "text/x-python",
   "name": "python",
   "nbconvert_exporter": "python",
   "pygments_lexer": "ipython3",
   "version": "3.11.3"
  }
 },
 "nbformat": 4,
 "nbformat_minor": 5
}
