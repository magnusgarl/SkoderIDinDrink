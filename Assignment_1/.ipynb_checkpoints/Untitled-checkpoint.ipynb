{
 "cells": [
  {
   "cell_type": "markdown",
   "id": "83f38596-7af2-4147-bb62-3a99f689aa8d",
   "metadata": {},
   "source": [
    "## Scrape Scrape Scrape My Balls"
   ]
  },
  {
   "cell_type": "code",
   "execution_count": 22,
   "id": "46ff0c4b-5c8f-47e9-b2a1-a09895ce3c7b",
   "metadata": {},
   "outputs": [],
   "source": [
    "import requests\n",
    "from bs4 import BeautifulSoup as bs\n",
    "import pandas as pd\n",
    "import time\n",
    "from selenium import webdriver"
   ]
  },
  {
   "cell_type": "markdown",
   "id": "f82f4e5a-8fea-4590-9a17-58c5424eb563",
   "metadata": {},
   "source": [
    "#### Journal of Labor Economics"
   ]
  },
  {
   "cell_type": "code",
   "execution_count": 57,
   "id": "5220e082-5af9-4970-bcbe-1a2f4102db1f",
   "metadata": {
    "tags": []
   },
   "outputs": [
    {
     "name": "stdout",
     "output_type": "stream",
     "text": [
      "<Response [403]>\n"
     ]
    }
   ],
   "source": [
    "base_url = 'https://academic.oup.com/qje/issue'\n",
    "headers = {\"User\": 'magnus eldrup, Københavns Universitet'}\n",
    "#driver = webdriver.Chrome()  # Replace 'Chrome' with the appropriate browser driver\n",
    "#driver.get(base_url)\n",
    "\n",
    "# Sleep for a few seconds to allow the page to load dynamically (you may need to adjust the time)\n",
    "#time.sleep(2)\n",
    "\n",
    "# Get the page source after the dynamic content has loaded\n",
    "#page_source = driver.page_source\n",
    "\n",
    "# Close the browser\n",
    "#driver.quit()\n",
    "fp = requests.get(base_url, headers=headers)\n",
    "print(fp)"
   ]
  },
  {
   "cell_type": "code",
   "execution_count": 55,
   "id": "b9d54233-7739-4b12-ad81-520cc990491a",
   "metadata": {},
   "outputs": [
    {
     "name": "stdout",
     "output_type": "stream",
     "text": [
      "\n",
      "Strategyproofness-Exposing Mechanism Descriptions\n",
      "\n"
     ]
    }
   ],
   "source": [
    "soup_article = bs(article.content, \"html.parser\")\n",
    "#article_overview = soup_frontpage.find_all('dl', class_='article content')\n",
    "title_fetch = soup_article.find('h1', class_='page-header__title')\n",
    "title = title_fetch.text\n",
    "print(title)\n",
    "title_fetch = soup_article.find('h1', class_='page-header__title')\n",
    "title = title_fetch.text\n",
    "print(title)"
   ]
  },
  {
   "cell_type": "code",
   "execution_count": 31,
   "id": "37158b04-f17f-42f1-8f3a-a61642dd70f8",
   "metadata": {
    "tags": []
   },
   "outputs": [],
   "source": [
    "#soup_frontpage"
   ]
  },
  {
   "cell_type": "code",
   "execution_count": 45,
   "id": "0103ede7-408a-4d94-88c4-2d389c522536",
   "metadata": {},
   "outputs": [
    {
     "name": "stdout",
     "output_type": "stream",
     "text": [
      "Failed to fetch the webpage. Status code: 403\n"
     ]
    }
   ],
   "source": [
    "import requests\n",
    "from bs4 import BeautifulSoup as bs\n",
    "\n",
    "base_url = 'http://dx.doi.org/10.1086/719994'\n",
    "#base_url = 'https://www.sciencedirect.com/science/article/pii/S0927537123000404'\n",
    "headers = {'User-Agent': 'Mozilla/5.0 (iPad; CPU OS 12_2 like Mac OS X) AppleWebKit/605.1.15 (KHTML, like Gecko) Mobile/15E148'}\n",
    "response = requests.get(base_url, headers=headers)\n",
    "\n",
    "# Check if the request was successful (200 OK)\n",
    "if response.status_code == 200:\n",
    "    # Create a BeautifulSoup object to parse the HTML\n",
    "    soup_frontpage = bs(response.content, \"html.parser\")\n",
    "    \n",
    "    # Find all <h3> tags\n",
    "    article_overview = soup_frontpage.find_all('h3')\n",
    "\n",
    "    print(article_overview)\n",
    "else:\n",
    "    print(\"Failed to fetch the webpage. Status code:\", response.status_code)\n"
   ]
  },
  {
   "cell_type": "code",
   "execution_count": 42,
   "id": "09b60530-0b69-488b-8967-c4f5b0a478c9",
   "metadata": {},
   "outputs": [
    {
     "name": "stdout",
     "output_type": "stream",
     "text": [
      "<!DOCTYPE html>\n",
      "\n",
      "<html lang=\"en\">\n",
      "<head>\n",
      "<meta content=\"width=device-width, initial-scale=1.0\" name=\"viewport\"/>\n",
      "<title>Shibboleth Authentication Request</title></head><body onload=\"EZproxyCheckBack()\"><form action=\"https://idp.shibboleth.ox.ac.uk/idp/profile/SAML2/POST/SSO\" method=\"POST\" name=\"EZproxyForm\"><input name=\"RelayState\" type=\"hidden\" value=\"ezp.2aHR0cHM6Ly93d3cuc2NpZW5jZWRpcmVjdC5jb20vam91cm5hbC9sYWJvdXItZWNvbm9taWNzL3ZvbC84NC9zdXBwbC9D\"/>\n",
      "<input name=\"SAMLRequest\" type=\"hidden\" value=\"PD94bWwgdmVyc2lvbj0iMS4wIj8+CjxzYW1scDpBdXRoblJlcXVlc3QgeG1sbnM6c2FtbHA9InVybjpvYXNpczpuYW1lczp0YzpTQU1MOjIuMDpwcm90b2NvbCIgRGVzdGluYXRpb249Imh0dHBzOi8vaWRwLnNoaWJib2xldGgub3guYWMudWsvaWRwL3Byb2ZpbGUvU0FNTDIvUE9TVC9TU08iIElEPSJfMTY5MTA3MjQxMzU3NDcxIiBJc3N1ZUluc3RhbnQ9IjIwMjMtMDgtMDNUMTQ6MjA6MTNaIiBWZXJzaW9uPSIyLjAiPjxzYW1sOklzc3VlciB4bWxuczpzYW1sPSJ1cm46b2FzaXM6bmFtZXM6dGM6U0FNTDoyLjA6YXNzZXJ0aW9uIj5odHRwczovL2xvZ2luLmV6cHJveHktcHJkLmJvZGxlaWFuLm94LmFjLnVrL3NwPC9zYW1sOklzc3Vlcj48c2FtbHA6TmFtZUlEUG9saWN5IEFsbG93Q3JlYXRlPSIxIi8+PC9zYW1scDpBdXRoblJlcXVlc3Q+Cg==\"/>\n",
      "If your browser does not continue automatically, click <input type=\"submit\" value=\"here\"/>\n",
      "</form><form name=\"EZproxyTrack\"><input name=\"back\" type=\"hidden\" value=\"1\"/><script language=\"JavaScript\">\n",
      "<!--\n",
      "function EZproxyCheckBack() {  var goForward = (document.EZproxyTrack.back.value==1);  document.EZproxyTrack.back.value=2;  document.EZproxyTrack.back.defaultValue=2;  if (goForward) { document.EZproxyForm.submit(); }}\n",
      "-->\n",
      "</script></form></body></html>\n",
      "\n"
     ]
    }
   ],
   "source": [
    "import requests\n",
    "\n",
    "API_KEY = 'YOUR_API_KEY'\n",
    "\n",
    "def get_scrapeops_url(url):\n",
    "    payload = {'api_key': API_KEY, 'url': url}\n",
    "    proxy_url = 'https://proxy.scrapeops.io/v1/?' + urlencode(payload)\n",
    "    return proxy_url\n",
    "\n",
    "r = requests.get(get_scrapeops_url('http://quotes.toscrape.com/page/1/'))\n",
    "print(r.text)\n"
   ]
  },
  {
   "cell_type": "code",
   "execution_count": 75,
   "id": "dcb4c0e9-fbb7-4f77-84fa-9573a84da95b",
   "metadata": {},
   "outputs": [
    {
     "data": {
      "text/plain": [
       "['https://www.journals.uchicago.edu/toc/jole/2017/35/1',\n",
       " 'https://www.journals.uchicago.edu/toc/jole/2017/35/2',\n",
       " 'https://www.journals.uchicago.edu/toc/jole/2017/35/3',\n",
       " 'https://www.journals.uchicago.edu/toc/jole/2017/35/4',\n",
       " 'https://www.journals.uchicago.edu/toc/jole/2018/36/1',\n",
       " 'https://www.journals.uchicago.edu/toc/jole/2018/36/2',\n",
       " 'https://www.journals.uchicago.edu/toc/jole/2018/36/3',\n",
       " 'https://www.journals.uchicago.edu/toc/jole/2018/36/4',\n",
       " 'https://www.journals.uchicago.edu/toc/jole/2019/37/1',\n",
       " 'https://www.journals.uchicago.edu/toc/jole/2019/37/2',\n",
       " 'https://www.journals.uchicago.edu/toc/jole/2019/37/3',\n",
       " 'https://www.journals.uchicago.edu/toc/jole/2019/37/4',\n",
       " 'https://www.journals.uchicago.edu/toc/jole/2020/38/1',\n",
       " 'https://www.journals.uchicago.edu/toc/jole/2020/38/2',\n",
       " 'https://www.journals.uchicago.edu/toc/jole/2020/38/3',\n",
       " 'https://www.journals.uchicago.edu/toc/jole/2020/38/4',\n",
       " 'https://www.journals.uchicago.edu/toc/jole/2021/39/1',\n",
       " 'https://www.journals.uchicago.edu/toc/jole/2021/39/2',\n",
       " 'https://www.journals.uchicago.edu/toc/jole/2021/39/3',\n",
       " 'https://www.journals.uchicago.edu/toc/jole/2021/39/4',\n",
       " 'https://www.journals.uchicago.edu/toc/jole/2022/40/1',\n",
       " 'https://www.journals.uchicago.edu/toc/jole/2022/40/2',\n",
       " 'https://www.journals.uchicago.edu/toc/jole/2022/40/3',\n",
       " 'https://www.journals.uchicago.edu/toc/jole/2022/40/4',\n",
       " 'https://www.journals.uchicago.edu/toc/jole/2023/41/1',\n",
       " 'https://www.journals.uchicago.edu/toc/jole/2023/41/2',\n",
       " 'https://www.journals.uchicago.edu/toc/jole/2023/41/3']"
      ]
     },
     "execution_count": 75,
     "metadata": {},
     "output_type": "execute_result"
    }
   ],
   "source": [
    "number = ['1','2','3','4']\n",
    "vol = [num for num in range(41, 34, -1)]\n",
    "year = [num for num in range(2023, 2016, -1)]\n",
    "base_url = 'https://www.journals.uchicago.edu/toc/jole/'\n",
    "\n",
    "url_lists = []\n",
    "\n",
    "for i in range(7):\n",
    "    url2 = base_url + str(year[6-i]) + \"/\" + str(vol[6-i]) \n",
    "    for j in range(len(number)):\n",
    "        url = url2 + \"/\" + number[j]\n",
    "        url_lists.append(url)\n",
    "    \n",
    "url_lists = url_lists[:-1] \n",
    "url_lists\n"
   ]
  },
  {
   "cell_type": "code",
   "execution_count": 76,
   "id": "08aa364a-42c2-4f60-9cb9-bb328413d7a2",
   "metadata": {
    "tags": []
   },
   "outputs": [],
   "source": [
    "import requests\n",
    "\n",
    "def api_proxy(url_search):\n",
    "    try:\n",
    "        response = requests.get(\n",
    "            url='https://proxy.scrapeops.io/v1/',\n",
    "            params={\n",
    "                'api_key': '04d1219b-8510-41d3-8a5d-f40b093cec0a',\n",
    "                'url': url_search,\n",
    "            },\n",
    "        )\n",
    "        response.raise_for_status()  # Raise an exception for 4xx and 5xx status codes\n",
    "        print('Request successful')\n",
    "        return response.content\n",
    "    except requests.exceptions.RequestException as e:\n",
    "        print(f\"Request to {url_search} failed. Exception: {e}\")\n",
    "        return None\n",
    "\n",
    "\n",
    "\n",
    "\n",
    "#print('Response Body: ', response.content)"
   ]
  },
  {
   "cell_type": "code",
   "execution_count": 77,
   "id": "69efe176-1c07-41b7-8520-180decbce0c6",
   "metadata": {},
   "outputs": [
    {
     "name": "stdout",
     "output_type": "stream",
     "text": [
      "Request successful\n",
      "0\n",
      "Request successful\n",
      "1\n",
      "Request to https://www.journals.uchicago.edu/toc/jole/2017/35/3 failed. Exception: 500 Server Error: Internal Server Error for url: https://proxy.scrapeops.io/v1/?api_key=04d1219b-8510-41d3-8a5d-f40b093cec0a&url=https%3A%2F%2Fwww.journals.uchicago.edu%2Ftoc%2Fjole%2F2017%2F35%2F3\n",
      "2\n",
      "Request successful\n",
      "3\n",
      "Request successful\n",
      "4\n",
      "Request successful\n",
      "5\n",
      "Request successful\n",
      "6\n",
      "Request successful\n",
      "7\n",
      "Request successful\n",
      "8\n",
      "Request to https://www.journals.uchicago.edu/toc/jole/2019/37/2 failed. Exception: 500 Server Error: Internal Server Error for url: https://proxy.scrapeops.io/v1/?api_key=04d1219b-8510-41d3-8a5d-f40b093cec0a&url=https%3A%2F%2Fwww.journals.uchicago.edu%2Ftoc%2Fjole%2F2019%2F37%2F2\n",
      "9\n",
      "Request to https://www.journals.uchicago.edu/toc/jole/2019/37/3 failed. Exception: 500 Server Error: Internal Server Error for url: https://proxy.scrapeops.io/v1/?api_key=04d1219b-8510-41d3-8a5d-f40b093cec0a&url=https%3A%2F%2Fwww.journals.uchicago.edu%2Ftoc%2Fjole%2F2019%2F37%2F3\n",
      "10\n",
      "Request successful\n",
      "11\n",
      "Request successful\n",
      "12\n",
      "Request successful\n",
      "13\n",
      "Request successful\n",
      "14\n",
      "Request successful\n",
      "15\n",
      "Request successful\n",
      "16\n",
      "Request successful\n",
      "17\n",
      "Request successful\n",
      "18\n",
      "Request to https://www.journals.uchicago.edu/toc/jole/2021/39/4 failed. Exception: 500 Server Error: Internal Server Error for url: https://proxy.scrapeops.io/v1/?api_key=04d1219b-8510-41d3-8a5d-f40b093cec0a&url=https%3A%2F%2Fwww.journals.uchicago.edu%2Ftoc%2Fjole%2F2021%2F39%2F4\n",
      "19\n",
      "Request successful\n",
      "20\n",
      "Request successful\n",
      "21\n",
      "Request successful\n",
      "22\n",
      "Request successful\n",
      "23\n",
      "Request successful\n",
      "24\n",
      "Request successful\n",
      "25\n",
      "Request successful\n",
      "26\n"
     ]
    }
   ],
   "source": [
    "frontpage = []\n",
    "for i, url in enumerate(url_lists):\n",
    "    page = api_proxy(url)\n",
    "    frontpage.append(page)\n",
    "    print(i)\n",
    "    "
   ]
  },
  {
   "cell_type": "code",
   "execution_count": 80,
   "id": "3e56c6f3-b698-459d-a2bd-d7b534ee3544",
   "metadata": {
    "tags": []
   },
   "outputs": [
    {
     "name": "stdout",
     "output_type": "stream",
     "text": [
      "None\n"
     ]
    }
   ],
   "source": [
    "print(frontpage[])"
   ]
  },
  {
   "cell_type": "code",
   "execution_count": 72,
   "id": "b2122fa1-bbb9-4517-b2b5-21c8479ba0e5",
   "metadata": {},
   "outputs": [
    {
     "data": {
      "text/plain": [
       "'https://www.journals.uchicago.edu/toc/jole/37/2019//3'"
      ]
     },
     "execution_count": 72,
     "metadata": {},
     "output_type": "execute_result"
    }
   ],
   "source": [
    "url_lists[10]"
   ]
  },
  {
   "cell_type": "code",
   "execution_count": null,
   "id": "1a74c611-7af5-4994-aefb-87d4386df00b",
   "metadata": {},
   "outputs": [],
   "source": []
  }
 ],
 "metadata": {
  "kernelspec": {
   "display_name": "Python 3 (ipykernel)",
   "language": "python",
   "name": "python3"
  },
  "language_info": {
   "codemirror_mode": {
    "name": "ipython",
    "version": 3
   },
   "file_extension": ".py",
   "mimetype": "text/x-python",
   "name": "python",
   "nbconvert_exporter": "python",
   "pygments_lexer": "ipython3",
   "version": "3.10.8"
  }
 },
 "nbformat": 4,
 "nbformat_minor": 5
}
